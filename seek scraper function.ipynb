{
 "cells": [
  {
   "cell_type": "code",
   "execution_count": 1,
   "id": "c16c562e",
   "metadata": {},
   "outputs": [],
   "source": [
    "from selenium import webdriver\n",
    "from selenium.webdriver.common.by import By\n",
    "from selenium.webdriver.common.keys import Keys\n",
    "from selenium.webdriver.chrome.service import Service\n",
    "from selenium.webdriver.remote.webelement import WebElement\n",
    "from selenium.webdriver import ActionChains\n",
    "import time \n",
    "from selenium.webdriver.chrome.options import Options\n",
    "from selenium.common.exceptions import NoSuchElementException\n",
    "from selenium.common.exceptions import StaleElementReferenceException\n",
    "from selenium.webdriver.support.ui import WebDriverWait\n",
    "from selenium.webdriver.support import expected_conditions\n",
    "\n",
    "\n"
   ]
  },
  {
   "cell_type": "code",
   "execution_count": 2,
   "id": "739fa2f0",
   "metadata": {},
   "outputs": [],
   "source": [
    "# writing a function to scrape jobs from seek \n",
    "def seek_job_scraper(job_title_search, pages_to_scrape):\n",
    "\n",
    "# adding a try except block to run my code\n",
    "    try:\n",
    "    \n",
    "        s = Service(\"/usr/local/bin/chromedriver\")\n",
    "        driver = webdriver.Chrome(service=s)\n",
    "        driver.get(\"https://seek.com.au\")\n",
    "\n",
    "\n",
    "        driver.maximize_window()\n",
    "        time.sleep(3)\n",
    "\n",
    "\n",
    "        key_words=driver.find_element(By.ID,\"keywords-input\")\n",
    "        key_words.send_keys(str(job_title_search))\n",
    "        time.sleep(2)\n",
    "\n",
    "\n",
    "        seek_button=driver.find_element(By.XPATH,\"//*[@id='SearchBar']/div[3]/div[3]/div/div/button\") \n",
    "        seek_button.click()\n",
    "        time.sleep(2)\n",
    "\n",
    "        listed_any_time= driver.find_element(By.XPATH, \"//*[@id='app']/div/div[4]/div/div/aside/div[2]/div/div/label[4]/div[2]\")\n",
    "        listed_any_time.click()\n",
    "        time.sleep(2)\n",
    "\n",
    "\n",
    "        last_7_days= driver.find_element(By.XPATH,\"//*[@id='RefineDateListed__radiogroup']/li[4]/a\")\n",
    "        last_7_days.click()\n",
    "\n",
    "\n",
    "\n",
    "\n",
    "        for i in range (pages_to_scrape):\n",
    "\n",
    "\n",
    "            next_button = driver.find_element(By.LINK_TEXT,\"Next\")\n",
    "            jobs = driver.find_elements(By.XPATH,\"//*[@id='app']/div/div[4]/div/section/div[2]\")\n",
    "\n",
    "\n",
    "\n",
    "            if next_button.is_displayed():\n",
    "                time.sleep(3)\n",
    "\n",
    "\n",
    "                for job in jobs:\n",
    "\n",
    "                    print(job.text)\n",
    "                    time.sleep(3)\n",
    "                    next_button.click()\n",
    "                    time.sleep(3)\n",
    "\n",
    "    except:\n",
    "        print('the page could not be scraped try again')\n",
    "\n"
   ]
  },
  {
   "cell_type": "code",
   "execution_count": 7,
   "id": "b22d75a3",
   "metadata": {},
   "outputs": [
    {
     "name": "stdout",
     "output_type": "stream",
     "text": [
      "the page could not be scraped try again\n"
     ]
    }
   ],
   "source": [
    "seek_job_scraper( pages_to_scrape = 2, job_title_search = 'engineers')"
   ]
  },
  {
   "cell_type": "code",
   "execution_count": null,
   "id": "c9e0787b",
   "metadata": {},
   "outputs": [],
   "source": []
  },
  {
   "cell_type": "code",
   "execution_count": null,
   "id": "6e061e14",
   "metadata": {},
   "outputs": [],
   "source": []
  }
 ],
 "metadata": {
  "kernelspec": {
   "display_name": "Python 3 (ipykernel)",
   "language": "python",
   "name": "python3"
  },
  "language_info": {
   "codemirror_mode": {
    "name": "ipython",
    "version": 3
   },
   "file_extension": ".py",
   "mimetype": "text/x-python",
   "name": "python",
   "nbconvert_exporter": "python",
   "pygments_lexer": "ipython3",
   "version": "3.8.6"
  },
  "toc": {
   "base_numbering": 1,
   "nav_menu": {},
   "number_sections": true,
   "sideBar": true,
   "skip_h1_title": false,
   "title_cell": "Table of Contents",
   "title_sidebar": "Contents",
   "toc_cell": false,
   "toc_position": {},
   "toc_section_display": true,
   "toc_window_display": false
  }
 },
 "nbformat": 4,
 "nbformat_minor": 5
}
